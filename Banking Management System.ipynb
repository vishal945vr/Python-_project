{
 "cells": [
  {
   "cell_type": "code",
   "execution_count": 1,
   "metadata": {},
   "outputs": [
    {
     "name": "stdout",
     "output_type": "stream",
     "text": [
      "----------------------------------------------------------------------------------------------------------------\n",
      "Banking Management System\n",
      "1-Show Balance\n",
      "2-Deposit\n",
      "3-Withdraw\n",
      "4-Exit\n"
     ]
    }
   ],
   "source": [
    "# BANKING MANGEMENT SYSTEM\n",
    "'''Key Changes:\n",
    "Formatting Issue in show_balance: Corrected the formatting of the balance output to ₹{balance:.2f} for proper decimal representation.\n",
    "\n",
    "Commenting: Added comments before each function and critical sections to explain the code.\n",
    "\n",
    "Validation Clarifications: Added clear comments about input validation for deposits and withdrawals.\n",
    "\n",
    "General Improvements: Used clear section markers and structured comments for easy readability.'''\n",
    "# Function to display the current balance\n",
    "def show_balance():\n",
    "   print(\"----------------------------------------------------------------------------------------------------------------\")\n",
    " # Format the balance with 2 decimal points (fix the formatting issue in the print statement)\n",
    "   print(f\"Your balance is ₹{balance}:2f\")\n",
    "   \n",
    "def deposit():# Function to handle deposit operations\n",
    "   print(\"----------------------------------------------------------------------------------------------------------------\")\n",
    "   amount=float(input(\"Enter an amount to be Deposited:\"))\n",
    "   # Ensure the deposit amount is valid (non-negative)\n",
    "   if amount<0:\n",
    "      print(\"----------------------------------------------------------------------------------------------------------------\")\n",
    "      print(\"That's not a valid amount\")\n",
    "      return 0\n",
    "   else:\n",
    "      return amount\n",
    "      # Function to handle withdrawal operations\n",
    "   \n",
    "def withdraw():\n",
    "   print(\"----------------------------------------------------------------------------------------------------------------\")\n",
    "   # Check if sufficient funds are available for withdrawal\n",
    "   amount=float(input(\"Enter amount to be Withdrawn:\"))\n",
    "   if amount>balance:\n",
    "      print(\"----------------------------------------------------------------------------------------------------------------\")\n",
    "      print(\"Insufficient Funds\")\n",
    "      return 0\n",
    "       # Ensure the withdrawal amount is valid (greater than 0)\n",
    "   elif amount<0:\n",
    "      print(\"----------------------------------------------------------------------------------------------------------------\")\n",
    "      print(\"Amount must be greater than 0\")\n",
    "      return 0\n",
    "   else:\n",
    "      return amount\n",
    "\n",
    "# Initialize balance and control variable\n",
    "\n",
    "balance=0\n",
    "is_running=True\n",
    "\n",
    "while is_running:\n",
    "   # Main loop to interact with the user\n",
    "   print(\"----------------------------------------------------------------------------------------------------------------\")\n",
    "   print(\"Banking Management System\")\n",
    "   print(\"1-Show Balance\")\n",
    "   print(\"2-Deposit\")\n",
    "   print(\"3-Withdraw\")\n",
    "   print(\"4-Exit\")\n",
    "   choice=input(\"Enter your choice(1-4):\")\n",
    "# Handle user's choice\n",
    "   if choice==\"1\":\n",
    "      show_balance()\n",
    "   elif choice==\"2\":\n",
    "      balance +=deposit()\n",
    "   elif choice==\"3\":\n",
    "     balance -= withdraw()\n",
    "   elif choice==\"4\":\n",
    "      is_running=False\n",
    "   else:\n",
    "      print(\"That is not valid choice\")\n",
    "        # Handle invalid input\n",
    "\n",
    "print(\"Thanks You! Have a nice day\")\n",
    "# Display exit message\n",
    "print(\"----------------------------------------------------------------------------------------------------------------\")"
   ]
  }
 ],
 "metadata": {
  "kernelspec": {
   "display_name": "Python 3",
   "language": "python",
   "name": "python3"
  },
  "language_info": {
   "codemirror_mode": {
    "name": "ipython",
    "version": 3
   },
   "file_extension": ".py",
   "mimetype": "text/x-python",
   "name": "python",
   "nbconvert_exporter": "python",
   "pygments_lexer": "ipython3",
   "version": "3.11.9"
  }
 },
 "nbformat": 4,
 "nbformat_minor": 2
}
